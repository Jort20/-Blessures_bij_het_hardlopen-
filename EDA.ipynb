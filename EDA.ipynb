{
 "cells": [
  {
   "cell_type": "code",
   "execution_count": null,
   "metadata": {},
   "outputs": [],
   "source": []
  },
  {
   "cell_type": "markdown",
   "metadata": {},
   "source": [
    "# EDA voor hardloop dataset door Jort Gommers\n",
    "\n",
    "De data is waarschijnlijk verzameld door een formulier die hardlopers elke dag moesten invullen.\n",
    "De data is in een github repository gezet zodat het altijd beschikbaar is.\n",
    "\n",
    "De data bevat 2 files de eerste file hardloop.tsv gaat over wanneer er gehardlopen is hoelang er gehardlopen is en hoe intens het was.\n",
    "Deze file heeft in totaal 9 koloms waarvan 1 lege met 32498 datums dat er haardgelopen is.\n",
    "de 2 de file gaat over de blessures van de personenn in de periode dat ze aan het hardlopen waren.\n",
    "\n",
    "Deze file heeft 11 koloms  met 61 blessures een groot gedeelte van deze dataset is leeg.\n"
   ]
  },
  {
   "cell_type": "markdown",
   "metadata": {},
   "source": [
    "## Variablen \n",
    "\n",
    "Dit zijn de variablen voor de  files:\n",
    "\n",
    "### hardloop.tsv\n",
    "dates = datum hardgelopen\n",
    "moment = moment van de dag hardgelopen ochtend of avond\n",
    "TQR = mate van inspanning na hardlopen\n",
    "RPE = een mate van hoe belastend het is tijdens het lopen\n",
    "duration = hoelang die dag is hardgelopen\n",
    "sleep = hoeveel er is geslapen die dag door de hardloper\n",
    "person_id = de persoon waar het omgaat er zijn 24 personen.\n",
    "\n",
    "### blessures.tsv\n",
    "PERSON_ID = een persoonlijke ID per persoon.\t\n",
    "NAME = naam van de plek van de blessure \t\n",
    "DIAGNOSE = De diagnose van de blessure door een professional\t\n",
    "DATE_START = moment dat de blessure startte \t\n",
    "DATE_END =\tmoment dat de blessure stopte \n",
    "TIME_LOSS =\thoeveel dagen ze last hadden van de blessure \n",
    "LOCATION_INJURY = locatie van de blessure\t\n",
    "SIDE = kant van de locatie van de blessure indien nodig.\t\n",
    "TYPE =\taltijd leeg maar waarschijnlijk hoord hier chronic of acute blessure te staan.\n",
    "OCCURENCE =\thoe vaak het voorkwam\n",
    "REMARKS =\tnog enige informatie erbij.\n",
    "ID = ID gekoppeld aan de persoon_id in de eerste file.\n",
    "\n",
    "\n",
    "### informatie erbij\n",
    "\n",
    "Heel veel van de waardes in blessures zijn leeg met name van location_injury tot remarks waarschijnlijk omdat de hardlopers het antwoord op deze vraag niet wisten.\n",
    "Ook is er een aantal keer met vraagtekens geantwoord bij de diagnose of naam van de blessure wat de file niet mooier maakt maar wel nogsteeds belangrijk is voor het meenenmen.\n",
    "Bij hardloop TSV zijn veel waardes leeg omdat er niet door de hardlopers 2 keer per dag is hardgelopen waardoor het geen nut heeft om daar een antwoord in te vullen."
   ]
  },
  {
   "cell_type": "code",
   "execution_count": 5,
   "metadata": {},
   "outputs": [
    {
     "name": "stdout",
     "output_type": "stream",
     "text": [
      "Head van Dataset 1:\n",
      "   PERSON_ID    NAME          DIAGNOSE DATE_START   DATE_END  TIME_LOSS  \\\n",
      "0          1  DRUNA1             Kuit   20-MAR-12  03-APR-12       14.0   \n",
      "1          1  DRUNA1  voet(verstappen)  10-DEC-12  17-DEC-12        7.0   \n",
      "2          1  DRUNA1              lies  24-MAR-13  30-SEP-13      190.0   \n",
      "3         19  DRUNA2      Achillespees  03-OCT-11  23-DEC-11       81.0   \n",
      "4         19  DRUNA2              Heup  22-MAR-12  12-JAN-13      296.0   \n",
      "\n",
      "   LOCATION_INJURY SIDE TYPE OCCURENCE REMARKS  ID  \n",
      "0             kuit  NaN  NaN       NaN     NaN   1  \n",
      "1  voet (verstapt)  NaN  NaN       NaN     NaN   2  \n",
      "2             lies  NaN  NaN       NaN     NaN   3  \n",
      "3                ?  NaN  NaN       NaN     NaN   4  \n",
      "4             heup  NaN  NaN       NaN     NaN   5  \n",
      "\n",
      "Head van Dataset 2:\n",
      "       DATES MOMENT   TQR   RPE  DURATION  SLEEP  PERSON_ID    ID  TQR_OF_RPE\n",
      "0  30-APR-12      A   NaN   NaN       0.0    0.0        1.0  1973         NaN\n",
      "1  30-APR-12      O  15.0  13.0      75.0    9.0        1.0  1974         NaN\n",
      "2  01-MAY-12      A  14.0   9.0      45.0    2.0        1.0  1975         NaN\n",
      "3  01-MAY-12      O  16.0   9.0      45.0    9.0        1.0  1976         NaN\n",
      "4  02-MAY-12      A  14.0   9.0      45.0    2.0        1.0  1977         NaN\n"
     ]
    }
   ],
   "source": [
    "import pandas as pd\n",
    "\n",
    "# Bestandsnamen\n",
    "file1 = '/homes/jrgommers/hardlopen_data/blessures.tsv'\n",
    "file2 = '/homes/jrgommers/hardlopen_data/hardloop.tsv'\n",
    "\n",
    "# Inlezen van de datasets\n",
    "df1 = pd.read_csv(file1, sep='\\t')  # Assuming the file is a tab-separated file (tsv)\n",
    "df2 = pd.read_csv(file2, sep='\\t')\n",
    "\n",
    "# Afdrukken van de kop van de eerste dataset\n",
    "print(\"Head van Dataset 1:\")\n",
    "print(df1.head())\n",
    "\n",
    "# Afdrukken van de kop van de tweede dataset\n",
    "print(\"\\nHead van Dataset 2:\")\n",
    "print(df2.head())\n",
    "\n"
   ]
  },
  {
   "cell_type": "markdown",
   "metadata": {},
   "source": [
    "Hierboven zie je in het kort de head van de tabellen en hoe ze er dus uitzien. er zijn ook heel veel NA's dus die moeten als eerste weg "
   ]
  },
  {
   "cell_type": "code",
   "execution_count": 6,
   "metadata": {},
   "outputs": [
    {
     "name": "stdout",
     "output_type": "stream",
     "text": [
      "Head van Dataset 1 zonder NaN:\n",
      "    PERSON_ID    NAME                DIAGNOSE DATE_START   DATE_END  \\\n",
      "11          2  DRUNE1  Onderbeen/Achillespees  09-NOV-11  22-DEC-11   \n",
      "14          3  DRUNE2  Onderbeen/Achillespees  28-JAN-13  24-FEB-13   \n",
      "20          4  DRUNF1               Heup/Lies  30-APR-13  26-AUG-13   \n",
      "22          5  DRUNH1                    Knie  05-JAN-13  05-MAR-13   \n",
      "28          6  DRUNJ1                  Scheen  21-MAR-13  21-JUL-13   \n",
      "\n",
      "    TIME_LOSS         LOCATION_INJURY   SIDE                   TYPE  \\\n",
      "11       43.0  Onderbeen/achillespees  links           Peesblessure   \n",
      "14       27.0  Onderbeen/achillespees  links    anders| Niet bekend   \n",
      "20      118.0               Heup/Lies  Links     anders| Aspecifiek   \n",
      "22       59.0                    Knie  Links  anders| overbelasting   \n",
      "28      122.0                  scheen  links               fractuur   \n",
      "\n",
      "        OCCURENCE                                            REMARKS  ID  \n",
      "11  overbelasting  Hij heeft een halve-marathon gelopen. Daarna h...  12  \n",
      "14  overbelasting  Volgens eindvragenlijst klachten tot 24-2. In ...  15  \n",
      "20  overbelasting  Van 15-8 tot 26-8 op vakantie. Wat is einddatu...  21  \n",
      "22  overbelasting  In periode van 2 maanden aantal keren enkele d...  23  \n",
      "28  overbelasting  Ontstaan is in dagboek terug te vinden bij 21-...  29  \n",
      "\n",
      "Head van Dataset 2 zonder NaN:\n",
      "Empty DataFrame\n",
      "Columns: [DATES, MOMENT, TQR, RPE, DURATION, SLEEP, PERSON_ID, ID, TQR_OF_RPE]\n",
      "Index: []\n"
     ]
    }
   ],
   "source": [
    "import pandas as pd\n",
    "\n",
    "# Bestandsnamen\n",
    "file1 = '/homes/jrgommers/hardlopen_data/blessures.tsv'\n",
    "file2 = '/homes/jrgommers/hardlopen_data/hardloop.tsv'\n",
    "\n",
    "# Inlezen van de datasets\n",
    "df1 = pd.read_csv(file1, sep='\\t')  # Assuming the file is a tab-separated file (tsv)\n",
    "df2 = pd.read_csv(file2, sep='\\t')\n",
    "\n",
    "# Verwijder NaN-waarden uit de datasets\n",
    "df1 = df1.dropna()\n",
    "df2 = df2.dropna()\n",
    "\n",
    "# Afdrukken van de kop van de eerste dataset zonder NaN-waarden\n",
    "print(\"Head van Dataset 1 zonder NaN:\")\n",
    "print(df1.head())\n",
    "\n",
    "# Afdrukken van de kop van de tweede dataset zonder NaN-waarden\n",
    "print(\"\\nHead van Dataset 2 zonder NaN:\")\n",
    "print(df2.head())\n"
   ]
  },
  {
   "cell_type": "markdown",
   "metadata": {},
   "source": [
    "Hier zie je de data beter zonder de NAN's alleen dit is geen vaste oplossing voor de grafieken want dan mis je een stuk data die wel nodig is.\n",
    "Zoals je ziet is dataset 2 leeg dit komt omdat er een column is met alleen NAN's en als sleep NAN's dan hoeft niet ook hardgelopen te hebben en die data gaat dan ook weg. dus de NAN's moeten blijven of vervangen worden door 0."
   ]
  },
  {
   "cell_type": "code",
   "execution_count": 7,
   "metadata": {},
   "outputs": [
    {
     "name": "stdout",
     "output_type": "stream",
     "text": [
      "Head van Dataset 1 met NaN vervangen door 0:\n",
      "   PERSON_ID    NAME          DIAGNOSE DATE_START   DATE_END  TIME_LOSS  \\\n",
      "0          1  DRUNA1             Kuit   20-MAR-12  03-APR-12       14.0   \n",
      "1          1  DRUNA1  voet(verstappen)  10-DEC-12  17-DEC-12        7.0   \n",
      "2          1  DRUNA1              lies  24-MAR-13  30-SEP-13      190.0   \n",
      "3         19  DRUNA2      Achillespees  03-OCT-11  23-DEC-11       81.0   \n",
      "4         19  DRUNA2              Heup  22-MAR-12  12-JAN-13      296.0   \n",
      "\n",
      "   LOCATION_INJURY SIDE TYPE OCCURENCE REMARKS  ID  \n",
      "0             kuit    0    0         0       0   1  \n",
      "1  voet (verstapt)    0    0         0       0   2  \n",
      "2             lies    0    0         0       0   3  \n",
      "3                ?    0    0         0       0   4  \n",
      "4             heup    0    0         0       0   5  \n",
      "\n",
      "Head van Dataset 2 met NaN vervangen door 0:\n",
      "       DATES MOMENT   TQR   RPE  DURATION  SLEEP  PERSON_ID    ID  TQR_OF_RPE\n",
      "0  30-APR-12      A   0.0   0.0       0.0    0.0        1.0  1973         0.0\n",
      "1  30-APR-12      O  15.0  13.0      75.0    9.0        1.0  1974         0.0\n",
      "2  01-MAY-12      A  14.0   9.0      45.0    2.0        1.0  1975         0.0\n",
      "3  01-MAY-12      O  16.0   9.0      45.0    9.0        1.0  1976         0.0\n",
      "4  02-MAY-12      A  14.0   9.0      45.0    2.0        1.0  1977         0.0\n"
     ]
    }
   ],
   "source": [
    "import pandas as pd\n",
    "\n",
    "# Bestandsnamen\n",
    "file1 = '/homes/jrgommers/hardlopen_data/blessures.tsv'\n",
    "file2 = '/homes/jrgommers/hardlopen_data/hardloop.tsv'\n",
    "\n",
    "# Inlezen van de datasets\n",
    "df1 = pd.read_csv(file1, sep='\\t')  # Assuming the file is a tab-separated file (tsv)\n",
    "df2 = pd.read_csv(file2, sep='\\t')\n",
    "\n",
    "# Vervang NaN-waarden door 0 in de datasets\n",
    "df1 = df1.fillna(0)\n",
    "df2 = df2.fillna(0)\n",
    "\n",
    "# Afdrukken van de kop van de eerste dataset met NaN-waarden vervangen door 0\n",
    "print(\"Head van Dataset 1 met NaN vervangen door 0:\")\n",
    "print(df1.head())\n",
    "\n",
    "# Afdrukken van de kop van de tweede dataset met NaN-waarden vervangen door 0\n",
    "print(\"\\nHead van Dataset 2 met NaN vervangen door 0:\")\n",
    "print(df2.head())\n"
   ]
  },
  {
   "cell_type": "markdown",
   "metadata": {},
   "source": [
    "Op deze manier kun je de code nog gebruiken voor grafieken.\n"
   ]
  },
  {
   "cell_type": "markdown",
   "metadata": {},
   "source": [
    "### hoogste waarde\n",
    "Hieronder kijk ik of er enkele uitschieters zijn met waarde om te kijken of alles geod is en wat de limieten zijn."
   ]
  },
  {
   "cell_type": "code",
   "execution_count": 9,
   "metadata": {},
   "outputs": [
    {
     "name": "stdout",
     "output_type": "stream",
     "text": [
      "Hoogste waarde voor 'TQR' in Dataset 2: 20.0\n",
      "Hoogste waarde voor 'RPE' in Dataset 2: 20.0\n",
      "Hoogste waarde voor 'DURATION' in Dataset 2: 1160.0\n",
      "Hoogste waarde voor 'SLEEP' in Dataset 2: 120.0\n"
     ]
    }
   ],
   "source": [
    "import pandas as pd\n",
    "\n",
    "# Bestandsnamen\n",
    "file1 = '/homes/jrgommers/hardlopen_data/blessures.tsv'\n",
    "file2 = '/homes/jrgommers/hardlopen_data/hardloop.tsv'\n",
    "\n",
    "# Inlezen van de datasets\n",
    "df1 = pd.read_csv(file1, sep='\\t')  # Assuming the file is a tab-separated file (tsv)\n",
    "df2 = pd.read_csv(file2, sep='\\t')\n",
    "\n",
    "# Vervang NaN-waarden door 0 in de datasets\n",
    "df1 = df1.fillna(0)\n",
    "df2 = df2.fillna(0)\n",
    "\n",
    "# Vind de hoogste waarde voor specifieke kolommen in Dataset 2\n",
    "max_tqr = df2[\"TQR\"].max()\n",
    "max_rpe = df2[\"RPE\"].max()\n",
    "max_duration = df2[\"DURATION\"].max()\n",
    "max_sleep = df2[\"SLEEP\"].max()\n",
    "\n",
    "# Afdrukken van de hoogste waarde voor elke specifieke kolom in Dataset 2\n",
    "print(\"Hoogste waarde voor 'TQR' in Dataset 2:\", max_tqr)\n",
    "print(\"Hoogste waarde voor 'RPE' in Dataset 2:\", max_rpe)\n",
    "print(\"Hoogste waarde voor 'DURATION' in Dataset 2:\", max_duration)\n",
    "print(\"Hoogste waarde voor 'SLEEP' in Dataset 2:\", max_sleep)\n"
   ]
  },
  {
   "cell_type": "markdown",
   "metadata": {},
   "source": [
    "Hier zien we dat TQR en RPE van 0-20 waarschijnlijk lopen. Duration is waarschijnlijk een fout want ik verwacht niet dat iemand 1160 minuten heeft hardgelopen.\n",
    "Sleep is verwacht ik ook een fout want niemand slaapt 120 uur in 1 dag.\n",
    "\n",
    "Hier moet ik met de begeleider over overleggen wat voor limieten hij wil hebben bij sleep en duration om fouten te voorkomen."
   ]
  },
  {
   "cell_type": "code",
   "execution_count": 10,
   "metadata": {},
   "outputs": [
    {
     "name": "stdout",
     "output_type": "stream",
     "text": [
      "Informatie over Dataset 1:\n",
      "<class 'pandas.core.frame.DataFrame'>\n",
      "RangeIndex: 60 entries, 0 to 59\n",
      "Data columns (total 12 columns):\n",
      " #   Column           Non-Null Count  Dtype  \n",
      "---  ------           --------------  -----  \n",
      " 0   PERSON_ID        60 non-null     int64  \n",
      " 1   NAME             60 non-null     object \n",
      " 2   DIAGNOSE         60 non-null     object \n",
      " 3   DATE_START       60 non-null     object \n",
      " 4   DATE_END         60 non-null     object \n",
      " 5   TIME_LOSS        60 non-null     float64\n",
      " 6   LOCATION_INJURY  60 non-null     object \n",
      " 7   SIDE             60 non-null     object \n",
      " 8   TYPE             60 non-null     object \n",
      " 9   OCCURENCE        60 non-null     object \n",
      " 10  REMARKS          60 non-null     object \n",
      " 11  ID               60 non-null     int64  \n",
      "dtypes: float64(1), int64(2), object(9)\n",
      "memory usage: 5.8+ KB\n",
      "None\n",
      "\n",
      "Informatie over Dataset 2:\n",
      "<class 'pandas.core.frame.DataFrame'>\n",
      "RangeIndex: 32497 entries, 0 to 32496\n",
      "Data columns (total 9 columns):\n",
      " #   Column      Non-Null Count  Dtype  \n",
      "---  ------      --------------  -----  \n",
      " 0   DATES       32497 non-null  object \n",
      " 1   MOMENT      32497 non-null  object \n",
      " 2   TQR         32497 non-null  float64\n",
      " 3   RPE         32497 non-null  float64\n",
      " 4   DURATION    32497 non-null  float64\n",
      " 5   SLEEP       32497 non-null  float64\n",
      " 6   PERSON_ID   32497 non-null  float64\n",
      " 7   ID          32497 non-null  int64  \n",
      " 8   TQR_OF_RPE  32497 non-null  float64\n",
      "dtypes: float64(6), int64(1), object(2)\n",
      "memory usage: 2.2+ MB\n",
      "None\n"
     ]
    }
   ],
   "source": [
    "import pandas as pd\n",
    "\n",
    "# Bestandsnamen\n",
    "file1 = '/homes/jrgommers/hardlopen_data/blessures.tsv'\n",
    "file2 = '/homes/jrgommers/hardlopen_data/hardloop.tsv'\n",
    "\n",
    "# Inlezen van de datasets\n",
    "df1 = pd.read_csv(file1, sep='\\t')  # Assuming the file is a tab-separated file (tsv)\n",
    "df2 = pd.read_csv(file2, sep='\\t')\n",
    "\n",
    "# Vervang NaN-waarden door 0 in de datasets\n",
    "df1 = df1.fillna(0)\n",
    "df2 = df2.fillna(0)\n",
    "\n",
    "# Print informatie over de datasets\n",
    "print(\"Informatie over Dataset 1:\")\n",
    "print(df1.info())\n",
    "\n",
    "print(\"\\nInformatie over Dataset 2:\")\n",
    "print(df2.info())\n"
   ]
  },
  {
   "cell_type": "markdown",
   "metadata": {},
   "source": [
    "De meeste waarde zijn een float die misschien beter een int kunnen zijn bij dataset 2 hardlopen.tsv.\n",
    "Sleep TQR RPE eb duration zijn namelijk getallen dit kan het best aangepast worden. \n",
    "\n",
    "Bij de rest is het meeste een object wat niet voor problemen hoeft te zorgen in de toekomst."
   ]
  },
  {
   "cell_type": "code",
   "execution_count": 12,
   "metadata": {},
   "outputs": [
    {
     "name": "stdout",
     "output_type": "stream",
     "text": [
      "\n",
      "Gemiddelde van elke kolom voor Dataset 2:\n",
      "TQR         14.337870\n",
      "RPE         12.757787\n",
      "DURATION    35.677369\n",
      "SLEEP        5.105686\n",
      "dtype: float64\n"
     ]
    }
   ],
   "source": [
    "import pandas as pd\n",
    "\n",
    "# Bestandsnamen\n",
    "file1 = '/homes/jrgommers/hardlopen_data/blessures.tsv'\n",
    "file2 = '/homes/jrgommers/hardlopen_data/hardloop.tsv'\n",
    "\n",
    "# Inlezen van de datasets\n",
    "df1 = pd.read_csv(file1, sep='\\t')  # Assuming the file is a tab-separated file (tsv)\n",
    "df2 = pd.read_csv(file2, sep='\\t')\n",
    "\n",
    "\n",
    "\n",
    "# Headers van file 2\n",
    "headers_file2 = [\"TQR\", \"RPE\", \"DURATION\", \"SLEEP\"]\n",
    "\n",
    "# Subset van file 2 met alleen de gewenste kolommen\n",
    "df2_subset = df2[headers_file2]\n",
    "\n",
    "# Vind het gemiddelde van elke kolom voor Dataset 2\n",
    "average_values_df2 = df2_subset.mean()\n",
    "\n",
    "# Afdrukken van het gemiddelde van elke kolom voor Dataset 2\n",
    "print(\"\\nGemiddelde van elke kolom voor Dataset 2:\")\n",
    "print(average_values_df2)\n"
   ]
  },
  {
   "cell_type": "markdown",
   "metadata": {},
   "source": [
    "### review gemiddelde's\n",
    "\n",
    "Hierbij is de NAN niet 0 gemaakt omdat dat voor problemen zorgt. De gemiddelde zien er normaal uit dus er zijn niet extreem grote verschillen."
   ]
  },
  {
   "cell_type": "code",
   "execution_count": 17,
   "metadata": {},
   "outputs": [
    {
     "name": "stderr",
     "output_type": "stream",
     "text": [
      "/tmp/ipykernel_1769097/1194201282.py:7: FutureWarning: The argument 'infer_datetime_format' is deprecated and will be removed in a future version. A strict version of it is now the default, see https://pandas.pydata.org/pdeps/0004-consistent-to-datetime-parsing.html. You can safely remove this argument.\n",
      "  df = pd.read_csv(file_path, sep='\\t', dayfirst=True, infer_datetime_format=True, quoting=3, quotechar='\"', na_values=['', '\"\"'])\n"
     ]
    },
    {
     "data": {
      "image/png": "[encoded data removed]",
      "text/plain": [
       "<Figure size 640x480 with 1 Axes>"
      ]
     },
     "metadata": {},
     "output_type": "display_data"
    }
   ],
   "source": [
    "import pandas as pd\n",
    "import matplotlib.pyplot as plt\n",
    "\n",
    "file_path = 'hardloop.tsv'\n",
    "\n",
    "# Read the TSV file, specifying the date format for the 'DATES' column and handling quoting\n",
    "df = pd.read_csv(file_path, sep='\\t', dayfirst=True, infer_datetime_format=True, quoting=3, quotechar='\"', na_values=['', '\"\"'])\n",
    "\n",
    "# Clean up column names by removing leading and trailing whitespaces and double quotes\n",
    "df.columns = df.columns.str.strip().str.strip('\"')\n",
    "\n",
    "# Replace empty strings with NaN in the entire DataFrame\n",
    "df.replace('', pd.NA, inplace=True)\n",
    "\n",
    "# Drop rows with any missing values in the 'DATES' column\n",
    "df = df.dropna(subset=['DATES'])\n",
    "\n",
    "# Create a new column 'duration_tqr_pair' by combining 'DURATION' and 'TQR' columns\n",
    "df['duration_tqr_pair'] = df['DURATION'].astype(str) + '_' + df['TQR'].astype(str)\n",
    "\n",
    "# Group by 'duration_tqr_pair' and create a new column 'value_counts'\n",
    "df['value_counts'] = df.groupby('duration_tqr_pair')['duration_tqr_pair'].transform('count')\n",
    "\n",
    "# Fill NAs with 0s\n",
    "df = df.fillna(0)\n",
    "\n",
    "# Plot using matplotlib.scatter with transparency and blue color\n",
    "plt.scatter(df[df['DURATION'] > 0]['DURATION'], df[df['DURATION'] > 0]['TQR'], c='blue', alpha=0.5, s=df[df['DURATION'] > 0]['value_counts'])\n",
    "\n",
    "# Set plot title and labels\n",
    "plt.title('Training Duur versus Intensiteit (TQR)')\n",
    "plt.xlabel('DURATION')\n",
    "plt.ylabel('TQR')\n",
    "\n",
    "# Show the plot\n",
    "plt.show()\n"
   ]
  },
  {
   "cell_type": "markdown",
   "metadata": {},
   "source": [
    "Als je deze query runt krijg je een scatterplot te zien er moet nog iets "
   ]
  },
  {
   "cell_type": "code",
   "execution_count": 20,
   "metadata": {},
   "outputs": [
    {
     "name": "stderr",
     "output_type": "stream",
     "text": [
      "/tmp/ipykernel_1769097/4234342354.py:8: FutureWarning: The argument 'infer_datetime_format' is deprecated and will be removed in a future version. A strict version of it is now the default, see https://pandas.pydata.org/pdeps/0004-consistent-to-datetime-parsing.html. You can safely remove this argument.\n",
      "  df = pd.read_csv(file_path, sep='\\t', dayfirst=True, infer_datetime_format=True, quoting=3, quotechar='\"', na_values=['', '\"\"'])\n"
     ]
    },
    {
     "data": {
      "image/png": "[encoded data removed]",
      "text/plain": [
       "<Figure size 1000x600 with 1 Axes>"
      ]
     },
     "metadata": {},
     "output_type": "display_data"
    }
   ],
   "source": [
    "import pandas as pd\n",
    "import seaborn as sns\n",
    "import matplotlib.pyplot as plt\n",
    "\n",
    "file_path = 'hardloop.tsv'\n",
    "\n",
    "# Read the TSV file, specifying the date format for the 'DATES' column and handling quoting\n",
    "df = pd.read_csv(file_path, sep='\\t', dayfirst=True, infer_datetime_format=True, quoting=3, quotechar='\"', na_values=['', '\"\"'])\n",
    "\n",
    "# Clean up column names by removing leading and trailing whitespaces and double quotes\n",
    "df.columns = df.columns.str.strip().str.strip('\"')\n",
    "\n",
    "# Replace empty strings with NaN in the entire DataFrame\n",
    "df.replace('', pd.NA, inplace=True)\n",
    "\n",
    "# Drop rows with any missing values in the 'DATES' column\n",
    "df = df.dropna(subset=['DATES'])\n",
    "\n",
    "# Create a new column 'duration_tqr_pair' by combining 'DURATION' and 'TQR' columns\n",
    "df['duration_tqr_pair'] = df['DURATION'].astype(str) + '_' + df['TQR'].astype(str)\n",
    "\n",
    "# Group by 'duration_tqr_pair' and create a new column 'value_counts'\n",
    "df['value_counts'] = df.groupby('duration_tqr_pair')['duration_tqr_pair'].transform('count')\n",
    "\n",
    "# Fill NAs with 0s\n",
    "df = df.fillna(0)\n",
    "\n",
    "# Filter the DataFrame for RPE > 0\n",
    "df_rpe_filtered = df[df['RPE'] > 0]\n",
    "\n",
    "# Create a box plot using seaborn\n",
    "plt.figure(figsize=(10, 6))\n",
    "sns.boxplot(x='MOMENT', y='RPE', data=df_rpe_filtered)\n",
    "plt.title('RPE naar Moment van de Dag (Ochtend vs. Avond)')\n",
    "plt.xlabel('Moment van de Dag')\n",
    "plt.ylabel('RPE')\n",
    "plt.show()\n"
   ]
  },
  {
   "cell_type": "markdown",
   "metadata": {},
   "source": [
    "# De boxplot\n",
    "\n",
    "Hier heb ik een grafiek gemaakt van de boxplot op basis van de inspanning op de moment van de dag hier zie je dat de gemiddelde inspanning s'ochtends 1 lager zit dan de avond. \n"
   ]
  },
  {
   "cell_type": "code",
   "execution_count": 13,
   "metadata": {},
   "outputs": [
    {
     "name": "stdout",
     "output_type": "stream",
     "text": [
      "       PERSON_ID   TIME_LOSS         ID\n",
      "count  60.000000   59.000000  60.000000\n",
      "mean   11.266667   56.152542  30.500000\n",
      "std     6.617559   64.819594  17.464249\n",
      "min     1.000000    7.000000   1.000000\n",
      "25%     5.000000   13.000000  15.750000\n",
      "50%    11.500000   34.000000  30.500000\n",
      "75%    16.250000   63.000000  45.250000\n",
      "max    24.000000  306.000000  60.000000\n",
      "                TQR           RPE      DURATION         SLEEP    PERSON_ID  \\\n",
      "count  13227.000000  13228.000000  28063.000000  25784.000000  30323.00000   \n",
      "mean      14.337870     12.757787     35.677369      5.105686     12.08327   \n",
      "std        3.128276      3.128023     46.729298      4.392652      6.78762   \n",
      "min        0.000000      0.000000      0.000000      0.000000      1.00000   \n",
      "25%       13.000000     11.000000      0.000000      0.000000      6.00000   \n",
      "50%       15.000000     13.000000      0.000000      8.000000     12.00000   \n",
      "75%       17.000000     15.000000     60.000000      9.000000     18.00000   \n",
      "max       20.000000     20.000000   1160.000000    120.000000     24.00000   \n",
      "\n",
      "                 ID  TQR_OF_RPE  \n",
      "count  32497.000000         0.0  \n",
      "mean   22794.391882         NaN  \n",
      "std    12008.507396         NaN  \n",
      "min     1973.000000         NaN  \n",
      "25%    12331.000000         NaN  \n",
      "50%    23328.000000         NaN  \n",
      "75%    31882.000000         NaN  \n",
      "max    43770.000000         NaN  \n"
     ]
    }
   ],
   "source": [
    "import pandas as pd\n",
    "\n",
    "# Bestandsnamen\n",
    "file1 = '/homes/jrgommers/hardlopen_data/blessures.tsv'\n",
    "file2 = '/homes/jrgommers/hardlopen_data/hardloop.tsv'\n",
    "\n",
    "# Inlezen van de datasets\n",
    "df1 = pd.read_csv(file1, sep='\\t')  # Assuming the file is a tab-separated file (tsv)\n",
    "df2 = pd.read_csv(file2, sep='\\t')\n",
    "\n",
    "# Samenvatten van de datasets\n",
    "summary_result_1 = df1.describe()\n",
    "summary_result_2 = df2.describe()\n",
    "\n",
    "# Afdrukken van de resultaten\n",
    "print(summary_result_1)\n",
    "print(summary_result_2)\n"
   ]
  },
  {
   "cell_type": "markdown",
   "metadata": {},
   "source": [
    "## info describe data\n",
    "Deze statistieken geven een overzicht van de centrale tendens, spreiding en verdeling van de variabelen in de dataset. Bovendien lijkt het erop dat de variabele 'TQR_OF_RPE' geen geldige waarnemingen heeft (alleen NaN-waarden)"
   ]
  }
 ],
 "metadata": {
  "kernelspec": {
   "display_name": "my_env",
   "language": "python",
   "name": "python3"
  },
  "language_info": {
   "codemirror_mode": {
    "name": "ipython",
    "version": 3
   },
   "file_extension": ".py",
   "mimetype": "text/x-python",
   "name": "python",
   "nbconvert_exporter": "python",
   "pygments_lexer": "ipython3",
   "version": "3.11.2"
  }
 },
 "nbformat": 4,
 "nbformat_minor": 2
}
